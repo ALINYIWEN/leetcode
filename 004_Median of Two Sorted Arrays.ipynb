{
 "cells": [
  {
   "cell_type": "markdown",
   "metadata": {},
   "source": [
    "## 4. Median of Two Sorted Arrays\n",
    "- Given two sorted arrays nums1 and nums2 of size m and n respectively, return the median of the two sorted arrays."
   ]
  },
  {
   "cell_type": "markdown",
   "metadata": {},
   "source": [
    "## Example:\n",
    "\n",
    "Input: nums1 = [1,3], nums2 = [2]\n",
    "\n",
    "Output: 2.00000\n",
    "\n",
    "Explanation: merged array = [1,2,3] and median is 2."
   ]
  },
  {
   "cell_type": "code",
   "execution_count": 3,
   "metadata": {},
   "outputs": [],
   "source": [
    "class Solution:\n",
    "    def findMedianSortedArrays(self, nums1, nums2):\n",
    "        \n",
    "        # 陣列相加    \n",
    "        array = nums1 + nums2\n",
    "        print(array)\n",
    "        # 陣列排序 (小 => 大)\n",
    "        array = sorted(array)\n",
    "        print(array)\n",
    "        # 陣列大小\n",
    "        array_num = len(array)\n",
    "        \n",
    "        if array_num % 2 == 0:\n",
    "            median = ((array[array_num // 2] + array[(array_num // 2)-1]) / 2.0)\n",
    "\n",
    "        if array_num % 2 == 1:\n",
    "            median = array[(array_num-1)//2]\n",
    "\n",
    "        return median\n",
    "\n",
    "nums1 = [5,2]\n",
    "nums2 = [7,9]"
   ]
  },
  {
   "cell_type": "code",
   "execution_count": 5,
   "metadata": {},
   "outputs": [
    {
     "name": "stdout",
     "output_type": "stream",
     "text": [
      "[5, 2, 7, 9]\n",
      "[2, 5, 7, 9]\n",
      "median = 6.0\n"
     ]
    }
   ],
   "source": [
    "if __name__ == '__main__':\n",
    "    s = Solution()\n",
    "    answer = s.findMedianSortedArrays(nums1,nums2)\n",
    "    print(\"median = \" + str(answer))"
   ]
  },
  {
   "cell_type": "code",
   "execution_count": null,
   "metadata": {},
   "outputs": [],
   "source": []
  }
 ],
 "metadata": {
  "kernelspec": {
   "display_name": "Python 3",
   "language": "python",
   "name": "python3"
  },
  "language_info": {
   "codemirror_mode": {
    "name": "ipython",
    "version": 3
   },
   "file_extension": ".py",
   "mimetype": "text/x-python",
   "name": "python",
   "nbconvert_exporter": "python",
   "pygments_lexer": "ipython3",
   "version": "3.8.3"
  }
 },
 "nbformat": 4,
 "nbformat_minor": 4
}
