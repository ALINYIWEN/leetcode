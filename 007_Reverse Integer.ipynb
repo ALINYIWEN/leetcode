{
 "cells": [
  {
   "cell_type": "markdown",
   "metadata": {},
   "source": [
    "## 7. Reverse Integer\n",
    "- Given a 32-bit signed integer, reverse digits of an integer.\n",
    "\n",
    "### Example:\n",
    "Input: x = -123\n",
    "\n",
    "Output: -321"
   ]
  },
  {
   "cell_type": "code",
   "execution_count": 2,
   "metadata": {},
   "outputs": [],
   "source": [
    "class Solution:\n",
    "    def reverse(self, x):\n",
    "        \"\"\"\n",
    "        type x : int \\n\n",
    "        rtype  : int\n",
    "        \"\"\"\n",
    "\n",
    "        xstr = str(x)\n",
    "        if xstr[0] == '-':\n",
    "            xstr = xstr.strip('-')  # 移除負號\n",
    "            while True:\n",
    "                if xstr[-1] == '0':\n",
    "                    xstr = xstr[0:len(xstr)-1] \n",
    "                else:\n",
    "                    break\n",
    "            xstr = xstr[::-1]       # 反轉\n",
    "            xstr = \"-\" + xstr\n",
    "            xstr = int(xstr)\n",
    "\n",
    "            if xstr > 2147483647 or xstr < -2147483647:\n",
    "                xstr = 0\n",
    "        else:\n",
    "\n",
    "            xstr = xstr[::-1]\n",
    "            xstr = int(xstr)\n",
    "            if xstr > 2147483647 or xstr < -2147483647:\n",
    "                xstr = 0\n",
    "        return xstr "
   ]
  },
  {
   "cell_type": "code",
   "execution_count": 3,
   "metadata": {},
   "outputs": [
    {
     "name": "stdout",
     "output_type": "stream",
     "text": [
      "-909\n"
     ]
    }
   ],
   "source": [
    "s = Solution()\n",
    "answer = s.reverse(-9090)     \n",
    "print(answer)  "
   ]
  },
  {
   "cell_type": "code",
   "execution_count": null,
   "metadata": {},
   "outputs": [],
   "source": []
  }
 ],
 "metadata": {
  "kernelspec": {
   "display_name": "Python 3",
   "language": "python",
   "name": "python3"
  },
  "language_info": {
   "codemirror_mode": {
    "name": "ipython",
    "version": 3
   },
   "file_extension": ".py",
   "mimetype": "text/x-python",
   "name": "python",
   "nbconvert_exporter": "python",
   "pygments_lexer": "ipython3",
   "version": "3.8.3"
  }
 },
 "nbformat": 4,
 "nbformat_minor": 4
}
