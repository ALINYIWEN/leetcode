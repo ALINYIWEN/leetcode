{
 "cells": [
  {
   "cell_type": "markdown",
   "metadata": {},
   "source": [
    "## 1. Two Sum\n",
    "\n",
    "- Given an array of integers, return indices of the two numbers such that they add up to a specific target.\n",
    "\n",
    "- You may assume that each input would have exactly one solution, and you may not use the same element twice."
   ]
  },
  {
   "source": [
    "## Example:\n",
    "\n",
    "- Given nums = [2, 7, 11, 15], target = 9,\n",
    "\n",
    "- Because nums[0] + nums[1] = 2 + 7 = 9, return [0, 1]."
   ],
   "cell_type": "markdown",
   "metadata": {}
  },
  {
   "source": [
    "class Solution_1:  \n",
    "    def twoSum(self, nums, target):\n",
    "        ls = len(nums)\n",
    "        for i in range(ls):\n",
    "            for j in range(i + 1, ls):\n",
    "                if nums[i] + nums[j] == target:\n",
    "                    return [i, j]\n",
    "\n",
    "\n"
   ],
   "cell_type": "code",
   "metadata": {},
   "execution_count": 5,
   "outputs": []
  },
  {
   "cell_type": "code",
   "execution_count": 6,
   "metadata": {},
   "outputs": [],
   "source": [
    "# Hash table\n",
    "\n",
    "class Solution_2:\n",
    "    def twoSum(self, nums, target):\n",
    "        for i in range(len(nums)):\n",
    "            value = target - nums[i]\n",
    "            if value in nums:\n",
    "                return nums[i], i"
   ]
  },
  {
   "cell_type": "code",
   "execution_count": 8,
   "metadata": {},
   "outputs": [
    {
     "output_type": "stream",
     "name": "stdout",
     "text": [
      "[0, 1]\n(2, 0)\n"
     ]
    }
   ],
   "source": [
    "if __name__ == '__main__':\n",
    "    # begin\n",
    "    s1 = Solution_1()\n",
    "    print(s1.twoSum([2, 7, 11, 15], 9))\n",
    "\n",
    "    s2 = Solution_2()\n",
    "    print(s2.twoSum([2, 7, 11, 15], 9))"
   ]
  },
  {
   "cell_type": "code",
   "execution_count": null,
   "metadata": {},
   "outputs": [],
   "source": []
  }
 ],
 "metadata": {
  "kernelspec": {
   "name": "python383jvsc74a57bd0b3ba2566441a7c06988d0923437866b63cedc61552a5af99d1f4fb67d367b25f",
   "display_name": "Python 3.8.3 64-bit (conda)"
  },
  "language_info": {
   "codemirror_mode": {
    "name": "ipython",
    "version": 3
   },
   "file_extension": ".py",
   "mimetype": "text/x-python",
   "name": "python",
   "nbconvert_exporter": "python",
   "pygments_lexer": "ipython3",
   "version": "3.8.3"
  }
 },
 "nbformat": 4,
 "nbformat_minor": 4
}